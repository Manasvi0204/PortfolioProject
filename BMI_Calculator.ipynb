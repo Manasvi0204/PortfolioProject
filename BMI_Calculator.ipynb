{
  "nbformat": 4,
  "nbformat_minor": 0,
  "metadata": {
    "colab": {
      "provenance": [],
      "authorship_tag": "ABX9TyMZfUlx+0hONpgsNG5F3XoH",
      "include_colab_link": true
    },
    "kernelspec": {
      "name": "python3",
      "display_name": "Python 3"
    },
    "language_info": {
      "name": "python"
    }
  },
  "cells": [
    {
      "cell_type": "markdown",
      "metadata": {
        "id": "view-in-github",
        "colab_type": "text"
      },
      "source": [
        "<a href=\"https://colab.research.google.com/github/Manasvi0204/PortfolioProject/blob/main/BMI_Calculator.ipynb\" target=\"_parent\"><img src=\"https://colab.research.google.com/assets/colab-badge.svg\" alt=\"Open In Colab\"/></a>"
      ]
    },
    {
      "cell_type": "markdown",
      "source": [
        "https://mercer-health.com/services/weight-management-center/bmi-calculator#:~:text=Body%20Mass%20Index%2C%20or%20BMI,inches%20x%20height%20in%20inches"
      ],
      "metadata": {
        "id": "Y_kzVxFJakdx"
      }
    },
    {
      "cell_type": "code",
      "execution_count": 9,
      "metadata": {
        "colab": {
          "base_uri": "https://localhost:8080/"
        },
        "id": "hGXBMPUJSF-K",
        "outputId": "2a47baee-92b9-49a7-9dc4-31d50dfbd0d9"
      },
      "outputs": [
        {
          "output_type": "stream",
          "name": "stdout",
          "text": [
            "Enter your name: Manu\n",
            "Enter your weight in pounds: 128\n",
            "Enter your height in inches: 65\n",
            "21.297988165680472\n",
            "Manu, you are normal weight.\n"
          ]
        }
      ],
      "source": [
        "name = input(\"Enter your name: \")\n",
        "weight = int(input(\"Enter your weight in pounds: \"))\n",
        "height = int(input (\"Enter your height in inches: \"))\n",
        "\n",
        "BMI= (weight * 703)/ (height * height)\n",
        "print(BMI)\n",
        "\n",
        "if BMI>0:\n",
        "  if (BMI<18.5):\n",
        "    print(name +\", you are underweight.\")\n",
        "  elif (BMI<=24.9):\n",
        "    print(name +\", you are normal weight.\")\n",
        "  elif (BMI<=29.9):\n",
        "    print(name +\", you are overweight.\")\n",
        "  elif (BMI<=34.9):\n",
        "    print(name +\", you are obese.\")\n",
        "  elif (BMI<=39.9):\n",
        "    print(name +\", you are severely obese.\")\n",
        "  else:\n",
        "    print(name +\", you are morbidly obese.\")\n",
        "else:\n",
        "  print(\"Enter valid input\")\n"
      ]
    },
    {
      "cell_type": "code",
      "source": [],
      "metadata": {
        "id": "NFULJYfKjmLb"
      },
      "execution_count": null,
      "outputs": []
    },
    {
      "cell_type": "code",
      "source": [],
      "metadata": {
        "id": "4ZM5YS6Vjl_T"
      },
      "execution_count": null,
      "outputs": []
    },
    {
      "cell_type": "code",
      "source": [],
      "metadata": {
        "id": "w5cdFOGIjjpQ"
      },
      "execution_count": null,
      "outputs": []
    },
    {
      "cell_type": "code",
      "source": [],
      "metadata": {
        "id": "mYes5kvCjjWU"
      },
      "execution_count": null,
      "outputs": []
    },
    {
      "cell_type": "code",
      "source": [],
      "metadata": {
        "id": "Dc8xsOnPjjHu"
      },
      "execution_count": null,
      "outputs": []
    },
    {
      "cell_type": "code",
      "source": [],
      "metadata": {
        "id": "lBWOVp0Kji6r"
      },
      "execution_count": null,
      "outputs": []
    },
    {
      "cell_type": "code",
      "source": [
        "#BMI= (weight in pounds x 703)/ (height in inches x height in inches)"
      ],
      "metadata": {
        "id": "ofuXsquGSbRD"
      },
      "execution_count": null,
      "outputs": []
    },
    {
      "cell_type": "code",
      "source": [],
      "metadata": {
        "id": "CEoWxyHXgs4D"
      },
      "execution_count": null,
      "outputs": []
    },
    {
      "cell_type": "code",
      "source": [
        "Under 18.5\tUnderweight\tMinimal\n",
        "18.5 - 24.9\tNormal Weight\tMinimal\n",
        "25 - 29.9\tOverweight\tIncreased\n",
        "30 - 34.9\tObese\tHigh\n",
        "35 - 39.9\tSeverely Obese\tVery High\n",
        "40 and over\tMorbidly Obese\tExtremely High"
      ],
      "metadata": {
        "id": "EG6XpmOebXxM"
      },
      "execution_count": null,
      "outputs": []
    },
    {
      "cell_type": "code",
      "source": [
        "if BMI>0:\n",
        "  if (BMI<18.5):\n",
        "    print(name +\", you are underweight.\")\n",
        "  elif (BMI<=24.9):\n",
        "    print(name +\", you are normal weight.\")\n",
        "  elif (BMI<=29.9):\n",
        "    print(name +\", you are overweight.\")\n",
        "  elif (BMI<=34.9):\n",
        "    print(name +\", you are obese.\")\n",
        "  elif (BMI<=39.9):\n",
        "    print(name +\", you are severely obese.\")\n",
        "  else:\n",
        "    print(name +\", you are morbidly obese.\")\n",
        "else:\n",
        "  print(\"Enter valid input\")"
      ],
      "metadata": {
        "colab": {
          "base_uri": "https://localhost:8080/"
        },
        "id": "PvkdHjAgfR60",
        "outputId": "433e425e-9956-41c3-8b2e-ae058a2c3118"
      },
      "execution_count": 10,
      "outputs": [
        {
          "output_type": "stream",
          "name": "stdout",
          "text": [
            "Manu, you are normal weight.\n"
          ]
        }
      ]
    },
    {
      "cell_type": "code",
      "source": [],
      "metadata": {
        "id": "ilvrLCBEgxGb"
      },
      "execution_count": null,
      "outputs": []
    }
  ]
}